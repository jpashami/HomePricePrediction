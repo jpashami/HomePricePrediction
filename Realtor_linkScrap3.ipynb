{
 "cells": [
  {
   "cell_type": "markdown",
   "id": "e461531a",
   "metadata": {},
   "source": [
    "# Scraping link from Realtor.ca"
   ]
  },
  {
   "cell_type": "code",
   "execution_count": 1,
   "id": "3b09a333",
   "metadata": {},
   "outputs": [],
   "source": [
    "from json.tool import main\n",
    "from selenium import webdriver\n",
    "from selenium.webdriver.common.keys import Keys\n",
    "from selenium.webdriver.common.by import By\n",
    "from selenium.webdriver.support.ui import WebDriverWait\n",
    "from selenium.webdriver.support import expected_conditions as EC\n",
    "import time\n",
    "import csv\n",
    "from datetime import date\n",
    "# Import writer class from csv module\n",
    "from csv import writer\n",
    "import pandas as pd"
   ]
  },
  {
   "cell_type": "markdown",
   "id": "9d074c1b",
   "metadata": {},
   "source": [
    "Opening Chrome web driver"
   ]
  },
  {
   "cell_type": "code",
   "execution_count": 4,
   "id": "fc8fecfa",
   "metadata": {
    "scrolled": true
   },
   "outputs": [
    {
     "name": "stderr",
     "output_type": "stream",
     "text": [
      "C:\\Users\\JPASHAMI\\AppData\\Local\\Temp/ipykernel_18140/1165801800.py:2: DeprecationWarning: executable_path has been deprecated, please pass in a Service object\n",
      "  driver = webdriver.Chrome(PATH)\n"
     ]
    }
   ],
   "source": [
    "PATH = \"C:\\Program Files (x86)\\chromedriver.exe\"\n",
    "driver = webdriver.Chrome(PATH)\n",
    "#url1 = \"https://www.realtor.ca/map#ZoomLevel=8&Center=44.595693%2C-61.953830&LatitudeMax=45.64606&LongitudeMax=-58.65793&LatitudeMin=43.52599&LongitudeMin=-65.24973&view=list&Sort=6-D&PGeoIds=g30_dxgnyskn&GeoName=Halifax%20Regional%20Municipality%2C%20NS&PropertyTypeGroupID=1&PropertySearchTypeId=1&TransactionTypeId=2&Currency=CAD\"\n",
    "url2 = 'https://www.realtor.ca/map#LatitudeMax=44.71121&LongitudeMax=-63.54320&LatitudeMin=44.58117&LongitudeMin=-63.72260&view=list&CurrentPage=2&Sort=6-D&PGeoIds=g30_dxgnyskn&GeoName=Halifax%2C%20NS&PropertyTypeGroupID=1&PropertySearchTypeId=1&TransactionTypeId=2&NumberOfDays=27&Currency=CAD'\n",
    "driver.get(url2)"
   ]
  },
  {
   "cell_type": "markdown",
   "id": "caf1f253",
   "metadata": {},
   "source": [
    "Initializing variables"
   ]
  },
  {
   "cell_type": "code",
   "execution_count": 6,
   "id": "fda7bfc8",
   "metadata": {},
   "outputs": [
    {
     "name": "stdout",
     "output_type": "stream",
     "text": [
      "121 11\n"
     ]
    }
   ],
   "source": [
    "resultNum = int(driver.find_element(By.ID, 'listViewResultsNumVal').text)\n",
    "pageNum = resultNum//12 + 1\n",
    "print(resultNum, pageNum)"
   ]
  },
  {
   "cell_type": "code",
   "execution_count": 7,
   "id": "66de1d82",
   "metadata": {},
   "outputs": [],
   "source": [
    "list = []\n",
    "page = 1"
   ]
  },
  {
   "cell_type": "markdown",
   "id": "0c313a93",
   "metadata": {},
   "source": [
    "Main Scripts to collect link from search result of realtor.ca"
   ]
  },
  {
   "cell_type": "code",
   "execution_count": 8,
   "id": "476c7816",
   "metadata": {
    "scrolled": true
   },
   "outputs": [],
   "source": [
    "if page == 1:\n",
    "    url = 'https://www.realtor.ca/map#LatitudeMax=44.71121&LongitudeMax=-63.54320&LatitudeMin=44.58117&LongitudeMin=-63.72260&view=list&Sort=6-D&PGeoIds=g30_dxgnyskn&GeoName=Halifax%2C%20NS&PropertyTypeGroupID=1&PropertySearchTypeId=1&TransactionTypeId=2&Currency=CAD'\n",
    "else:\n",
    "    url_p1 = 'https://www.realtor.ca/map#LatitudeMax=44.71121&LongitudeMax=-63.54320&LatitudeMin=44.58117&LongitudeMin=-63.72260&view=list&CurrentPage='\n",
    "    url_p2 = '&Sort=6-D&PGeoIds=g30_dxgnyskn&GeoName=Halifax%2C%20NS&PropertyTypeGroupID=1&PropertySearchTypeId=1&TransactionTypeId=2&NumberOfDays=27&Currency=CAD'\n",
    "    url = url_p1 + str(page) + url_p2\n",
    "    #while page <= pageNum:\n",
    "    #try:\n",
    "driver.get(url)\n",
    "WebDriverWait(driver, 10 )\n",
    "element_present = EC.presence_of_element_located((By.ID, 'listViewFooter'))\n",
    "WebDriverWait(driver, 30).until(element_present)\n",
    "links_f = driver.find_elements(By.CLASS_NAME, 'blockLink.listingDetailsLink')\n",
    "for link in links_f:\n",
    "    link_url = link.get_attribute('href')\n",
    "    #print(link_url)\n",
    "    \n",
    "    list.extend([link_url])\n",
    "#print(page, url)\n",
    "#print(len(list))\n",
    "page += 1\n",
    "driver.refresh()\n",
    "#except:\n",
    "    #    print('Can not load page number:', page)\n",
    "    #    page += 1"
   ]
  },
  {
   "cell_type": "markdown",
   "id": "94285d71",
   "metadata": {},
   "source": [
    "Printing the result here:"
   ]
  },
  {
   "cell_type": "code",
   "execution_count": 9,
   "id": "48dc90cb",
   "metadata": {},
   "outputs": [
    {
     "data": {
      "text/plain": [
       "['https://www.realtor.ca/real-estate/24226590/770-young-avenue-halifax-halifax',\n",
       " 'https://www.realtor.ca/real-estate/24225856/3628-barrington-street-halifax-halifax',\n",
       " 'https://www.realtor.ca/real-estate/24225175/5052-shore-road-dartmouth-dartmouth',\n",
       " 'https://www.realtor.ca/real-estate/24224874/206-30-brookdale-crescent-dartmouth-dartmouth',\n",
       " 'https://www.realtor.ca/real-estate/24224870/103-wentworth-drive-halifax-halifax',\n",
       " 'https://www.realtor.ca/real-estate/24224360/lot-6-78-307-marketway-lane-brunello-estates-timberlea-timberlea',\n",
       " 'https://www.realtor.ca/real-estate/24223133/5870-merkel-street-halifax-peninsula-halifax-peninsula',\n",
       " 'https://www.realtor.ca/real-estate/24218110/55-hilden-drive-spryfield-spryfield',\n",
       " 'https://www.realtor.ca/real-estate/24217850/lot-1015-higgins-avenue-beechville-beechville',\n",
       " 'https://www.realtor.ca/real-estate/24216544/1710-oxford-street-halifax-halifax',\n",
       " 'https://www.realtor.ca/real-estate/24216276/203-94-bedros-lane-halifax-halifax',\n",
       " 'https://www.realtor.ca/real-estate/24216058/22-maple-grove-avenue-timberlea-timberlea']"
      ]
     },
     "execution_count": 9,
     "metadata": {},
     "output_type": "execute_result"
    }
   ],
   "source": [
    "list"
   ]
  },
  {
   "cell_type": "markdown",
   "id": "fb0f01cd",
   "metadata": {},
   "source": [
    "Checking the list to remove duplicate links:"
   ]
  },
  {
   "cell_type": "code",
   "execution_count": 10,
   "id": "6ff487d0",
   "metadata": {},
   "outputs": [
    {
     "data": {
      "text/html": [
       "<div>\n",
       "<style scoped>\n",
       "    .dataframe tbody tr th:only-of-type {\n",
       "        vertical-align: middle;\n",
       "    }\n",
       "\n",
       "    .dataframe tbody tr th {\n",
       "        vertical-align: top;\n",
       "    }\n",
       "\n",
       "    .dataframe thead th {\n",
       "        text-align: right;\n",
       "    }\n",
       "</style>\n",
       "<table border=\"1\" class=\"dataframe\">\n",
       "  <thead>\n",
       "    <tr style=\"text-align: right;\">\n",
       "      <th></th>\n",
       "      <th>url</th>\n",
       "    </tr>\n",
       "  </thead>\n",
       "  <tbody>\n",
       "    <tr>\n",
       "      <th>0</th>\n",
       "      <td>https://www.realtor.ca/real-estate/24226590/77...</td>\n",
       "    </tr>\n",
       "    <tr>\n",
       "      <th>1</th>\n",
       "      <td>https://www.realtor.ca/real-estate/24225856/36...</td>\n",
       "    </tr>\n",
       "    <tr>\n",
       "      <th>2</th>\n",
       "      <td>https://www.realtor.ca/real-estate/24225175/50...</td>\n",
       "    </tr>\n",
       "    <tr>\n",
       "      <th>3</th>\n",
       "      <td>https://www.realtor.ca/real-estate/24224874/20...</td>\n",
       "    </tr>\n",
       "    <tr>\n",
       "      <th>4</th>\n",
       "      <td>https://www.realtor.ca/real-estate/24224870/10...</td>\n",
       "    </tr>\n",
       "    <tr>\n",
       "      <th>5</th>\n",
       "      <td>https://www.realtor.ca/real-estate/24224360/lo...</td>\n",
       "    </tr>\n",
       "    <tr>\n",
       "      <th>6</th>\n",
       "      <td>https://www.realtor.ca/real-estate/24223133/58...</td>\n",
       "    </tr>\n",
       "    <tr>\n",
       "      <th>7</th>\n",
       "      <td>https://www.realtor.ca/real-estate/24218110/55...</td>\n",
       "    </tr>\n",
       "    <tr>\n",
       "      <th>8</th>\n",
       "      <td>https://www.realtor.ca/real-estate/24217850/lo...</td>\n",
       "    </tr>\n",
       "    <tr>\n",
       "      <th>9</th>\n",
       "      <td>https://www.realtor.ca/real-estate/24216544/17...</td>\n",
       "    </tr>\n",
       "    <tr>\n",
       "      <th>10</th>\n",
       "      <td>https://www.realtor.ca/real-estate/24216276/20...</td>\n",
       "    </tr>\n",
       "    <tr>\n",
       "      <th>11</th>\n",
       "      <td>https://www.realtor.ca/real-estate/24216058/22...</td>\n",
       "    </tr>\n",
       "  </tbody>\n",
       "</table>\n",
       "</div>"
      ],
      "text/plain": [
       "                                                  url\n",
       "0   https://www.realtor.ca/real-estate/24226590/77...\n",
       "1   https://www.realtor.ca/real-estate/24225856/36...\n",
       "2   https://www.realtor.ca/real-estate/24225175/50...\n",
       "3   https://www.realtor.ca/real-estate/24224874/20...\n",
       "4   https://www.realtor.ca/real-estate/24224870/10...\n",
       "5   https://www.realtor.ca/real-estate/24224360/lo...\n",
       "6   https://www.realtor.ca/real-estate/24223133/58...\n",
       "7   https://www.realtor.ca/real-estate/24218110/55...\n",
       "8   https://www.realtor.ca/real-estate/24217850/lo...\n",
       "9   https://www.realtor.ca/real-estate/24216544/17...\n",
       "10  https://www.realtor.ca/real-estate/24216276/20...\n",
       "11  https://www.realtor.ca/real-estate/24216058/22..."
      ]
     },
     "execution_count": 10,
     "metadata": {},
     "output_type": "execute_result"
    }
   ],
   "source": [
    "New_df = pd.DataFrame(list , columns=['url']).drop_duplicates()\n",
    "New_df"
   ]
  },
  {
   "cell_type": "code",
   "execution_count": 11,
   "id": "4db29986",
   "metadata": {},
   "outputs": [
    {
     "data": {
      "text/plain": [
       "(12, 1)"
      ]
     },
     "execution_count": 11,
     "metadata": {},
     "output_type": "execute_result"
    }
   ],
   "source": [
    "New_df.shape"
   ]
  },
  {
   "cell_type": "markdown",
   "id": "085412e0",
   "metadata": {},
   "source": [
    "After preparing the list of links we will write it to a CSV file:"
   ]
  },
  {
   "cell_type": "code",
   "execution_count": 12,
   "id": "a084071c",
   "metadata": {},
   "outputs": [],
   "source": [
    "today = date.today()\n",
    "csv_name = \"Realtorlinks_test\" + str(today) +\".csv\"\n",
    "# find web links\n",
    "New_df.to_csv(csv_name, index=None)"
   ]
  },
  {
   "cell_type": "markdown",
   "id": "585102e4",
   "metadata": {},
   "source": [
    "Finally, we close the chrome driver:"
   ]
  },
  {
   "cell_type": "code",
   "execution_count": 13,
   "id": "fed936c4",
   "metadata": {},
   "outputs": [],
   "source": [
    "driver.quit()"
   ]
  }
 ],
 "metadata": {
  "kernelspec": {
   "display_name": "Python 3 (ipykernel)",
   "language": "python",
   "name": "python3"
  },
  "language_info": {
   "codemirror_mode": {
    "name": "ipython",
    "version": 3
   },
   "file_extension": ".py",
   "mimetype": "text/x-python",
   "name": "python",
   "nbconvert_exporter": "python",
   "pygments_lexer": "ipython3",
   "version": "3.9.7"
  }
 },
 "nbformat": 4,
 "nbformat_minor": 5
}
