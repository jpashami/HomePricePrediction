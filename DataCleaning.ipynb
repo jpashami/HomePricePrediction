{
 "cells": [
  {
   "cell_type": "markdown",
   "id": "f95f62b1",
   "metadata": {},
   "source": [
    "# The process of Data Cleaning and Data Transformation"
   ]
  },
  {
   "cell_type": "markdown",
   "id": "294bc4f1",
   "metadata": {},
   "source": [
    "First remove duplicates:"
   ]
  },
  {
   "cell_type": "code",
   "execution_count": null,
   "id": "95b1c725",
   "metadata": {},
   "outputs": [],
   "source": [
    "#import pandas\n",
    "import pandas as pd\n",
    "import numpy as np\n",
    "import csv"
   ]
  },
  {
   "cell_type": "code",
   "execution_count": null,
   "id": "3e190380",
   "metadata": {},
   "outputs": [],
   "source": [
    "home_df = pd.read_csv('Home0_563.csv', encoding='utf-8').drop_duplicates()"
   ]
  },
  {
   "cell_type": "code",
   "execution_count": null,
   "id": "1868b294",
   "metadata": {},
   "outputs": [],
   "source": [
    "hdf = home_df.iloc[:,:26]\n",
    "len(hdf)"
   ]
  },
  {
   "cell_type": "code",
   "execution_count": null,
   "id": "e64992e8",
   "metadata": {},
   "outputs": [],
   "source": [
    "hdf.url.duplicated().sum()"
   ]
  },
  {
   "cell_type": "code",
   "execution_count": null,
   "id": "4b5e1437",
   "metadata": {},
   "outputs": [],
   "source": [
    "hdf = hdf.drop_duplicates(subset='url', keep='last', ignore_index=True)"
   ]
  },
  {
   "cell_type": "code",
   "execution_count": null,
   "id": "1cb96ba1",
   "metadata": {
    "scrolled": true
   },
   "outputs": [],
   "source": [
    "display(hdf)"
   ]
  },
  {
   "cell_type": "markdown",
   "id": "d9d84721",
   "metadata": {},
   "source": [
    "Extracting Price from Price field"
   ]
  },
  {
   "cell_type": "code",
   "execution_count": null,
   "id": "a2628285",
   "metadata": {
    "scrolled": true
   },
   "outputs": [],
   "source": [
    "p = hdf['price'].str\n",
    "hdf['price'] = np.where(p.startswith('$'),p.replace(',','',regex=True), p)\n",
    "hdf['price'] = np.where(p.startswith('$'),p.replace(' ','',regex=True), p)\n",
    "hdf['price'] = np.where(p.startswith('$'),p.replace('$','',regex=True), p)\n",
    "print(hdf['price'])"
   ]
  },
  {
   "cell_type": "code",
   "execution_count": null,
   "id": "929096ed",
   "metadata": {
    "scrolled": true
   },
   "outputs": [],
   "source": [
    "display(hdf.iloc[0,26])"
   ]
  },
  {
   "cell_type": "code",
   "execution_count": null,
   "id": "f02f6cf8",
   "metadata": {},
   "outputs": [],
   "source": [
    "hdf.shape"
   ]
  },
  {
   "cell_type": "markdown",
   "id": "4955106a",
   "metadata": {},
   "source": [
    "Spliting the 3 frist digit from postal code and creating a new column"
   ]
  },
  {
   "cell_type": "code",
   "execution_count": null,
   "id": "5e9ee3ca",
   "metadata": {},
   "outputs": [],
   "source": [
    "count = 0\n",
    "hdf['po3'] = hdf['po']\n",
    "for x in range(510):\n",
    "    s = hdf.iloc[count][5]\n",
    "    hdf['po3'][count] = s[:3] \n",
    "    print(count, s[:3])\n",
    "    count = count +1\n",
    "print(hdf['po3'])"
   ]
  },
  {
   "cell_type": "code",
   "execution_count": null,
   "id": "8df53ad7",
   "metadata": {
    "scrolled": true
   },
   "outputs": [],
   "source": [
    "display(hdf)"
   ]
  },
  {
   "cell_type": "markdown",
   "id": "7fc17f11",
   "metadata": {},
   "source": [
    "Extracting Total finished Area from related field"
   ]
  },
  {
   "cell_type": "code",
   "execution_count": null,
   "id": "78727e5b",
   "metadata": {},
   "outputs": [],
   "source": [
    "p = hdf['totalFinishedArea'].str\n",
    "hdf['totalFinishedArea'] = np.where(p.endswith('sqft'),p.replace(' sqft','',regex=True), p)"
   ]
  },
  {
   "cell_type": "markdown",
   "id": "3f172df4",
   "metadata": {
    "scrolled": true
   },
   "source": [
    "Extracting Price History for calculating annual growth rate (CAGR)"
   ]
  },
  {
   "cell_type": "code",
   "execution_count": null,
   "id": "1d5fb236",
   "metadata": {},
   "outputs": [],
   "source": [
    "py = hdf['PriceHistory'][0]\n",
    "py = py[py.find('$')+1:]\n",
    "py = py.replace(',','')\n",
    "py_int = int(py)\n",
    "print(py_int)"
   ]
  },
  {
   "cell_type": "code",
   "execution_count": null,
   "id": "d2ae6851",
   "metadata": {},
   "outputs": [],
   "source": [
    "print(hdf.iloc[0][19])"
   ]
  },
  {
   "cell_type": "code",
   "execution_count": null,
   "id": "e645eef9",
   "metadata": {},
   "outputs": [],
   "source": [
    "y = hdf['PriceHistory'][0]\n",
    "loc = y.find('Sold')\n",
    "y = y[loc-5:loc-1]\n",
    "y_int = int(y)\n",
    "print(loc)\n",
    "print(y_int)"
   ]
  },
  {
   "cell_type": "code",
   "execution_count": null,
   "id": "3b02afda",
   "metadata": {},
   "outputs": [],
   "source": [
    "pn_int = int(hdf['price'][0])\n",
    "print(pn_int)"
   ]
  },
  {
   "cell_type": "code",
   "execution_count": null,
   "id": "33b24d69",
   "metadata": {},
   "outputs": [],
   "source": [
    "CAGR = (((pn_int/py_int)**(1/(2022-y_int)))-1)\n",
    "print(CAGR)"
   ]
  },
  {
   "cell_type": "code",
   "execution_count": null,
   "id": "b08d0549",
   "metadata": {
    "scrolled": true
   },
   "outputs": [],
   "source": [
    "count = 0\n",
    "py = ''\n",
    "y = ''\n",
    "pn = ''\n",
    "CAGR = np.zeros(510)\n",
    "while count<510:\n",
    "    s = str(hdf['PriceHistory'][count])\n",
    "    if (s != 'nan'):\n",
    "        if s.find('$') != -1:\n",
    "            py = s[s.find('$')+1:]            \n",
    "            py = py.replace(' (CAD)','')\n",
    "            py = py.replace(',','')\n",
    "            py_int = int(py)\n",
    "            loc = s.find('Sold')\n",
    "            y = s[loc-5:loc-1]\n",
    "            y_int = int(y)\n",
    "            pn_int = int(hdf['price'][count])\n",
    "            CAGR[count] = (((pn_int/py_int)**(1/(2022-y_int)))-1)\n",
    "    else:\n",
    "        py = ''\n",
    "        py_int = 0\n",
    "        pn = ''\n",
    "        pn_int = 0\n",
    "        y = '0'\n",
    "        y_int = 0\n",
    "    print([count, s, py_int , pn_int, y_int, CAGR[count]])\n",
    "    count = count +1\n"
   ]
  },
  {
   "cell_type": "code",
   "execution_count": null,
   "id": "cccbb4d1",
   "metadata": {},
   "outputs": [],
   "source": [
    "hdf['CAGR'] = CAGR\n",
    "print(hdf['CAGR'])"
   ]
  },
  {
   "cell_type": "code",
   "execution_count": null,
   "id": "a07f8dea",
   "metadata": {},
   "outputs": [],
   "source": [
    "hdf.head()"
   ]
  },
  {
   "cell_type": "markdown",
   "id": "7fab739b",
   "metadata": {},
   "source": [
    "Write the result to a new file"
   ]
  },
  {
   "cell_type": "code",
   "execution_count": null,
   "id": "f14afc2c",
   "metadata": {},
   "outputs": [],
   "source": [
    "hdf.to_csv('home0_510.csv', index=False)"
   ]
  }
 ],
 "metadata": {
  "kernelspec": {
   "display_name": "Python 3 (ipykernel)",
   "language": "python",
   "name": "python3"
  },
  "language_info": {
   "codemirror_mode": {
    "name": "ipython",
    "version": 3
   },
   "file_extension": ".py",
   "mimetype": "text/x-python",
   "name": "python",
   "nbconvert_exporter": "python",
   "pygments_lexer": "ipython3",
   "version": "3.9.7"
  }
 },
 "nbformat": 4,
 "nbformat_minor": 5
}
