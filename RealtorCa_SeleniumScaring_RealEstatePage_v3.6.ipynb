{
 "cells": [
  {
   "cell_type": "markdown",
   "id": "b2560b6d",
   "metadata": {},
   "source": [
    "# Collecting the post's content data"
   ]
  },
  {
   "cell_type": "markdown",
   "id": "4d609a57",
   "metadata": {},
   "source": [
    "Using this code we can open a Realtor post and scrape data from that web page. After that we converted the collected data to dataframe and finally append it as a row to a CSV file."
   ]
  },
  {
   "cell_type": "code",
   "execution_count": 1,
   "id": "7fb9d690",
   "metadata": {},
   "outputs": [],
   "source": [
    "from json.tool import main\n",
    "from selenium import webdriver\n",
    "from selenium.webdriver.common.keys import Keys\n",
    "from selenium.webdriver.common.by import By\n",
    "from selenium.webdriver.support.ui import WebDriverWait\n",
    "from selenium.webdriver.support import expected_conditions as EC\n",
    "import time\n",
    "from datetime import datetime\n",
    "import csv\n",
    "from csv import writer\n",
    "import pandas as pd\n",
    "import os\n",
    "import wget\n",
    "import sys"
   ]
  },
  {
   "cell_type": "markdown",
   "id": "d1d7f1b2",
   "metadata": {},
   "source": [
    "Opening the file that contains posts' link:"
   ]
  },
  {
   "cell_type": "code",
   "execution_count": 2,
   "id": "78c00688",
   "metadata": {
    "scrolled": true
   },
   "outputs": [
    {
     "data": {
      "text/html": [
       "<div>\n",
       "<style scoped>\n",
       "    .dataframe tbody tr th:only-of-type {\n",
       "        vertical-align: middle;\n",
       "    }\n",
       "\n",
       "    .dataframe tbody tr th {\n",
       "        vertical-align: top;\n",
       "    }\n",
       "\n",
       "    .dataframe thead th {\n",
       "        text-align: right;\n",
       "    }\n",
       "</style>\n",
       "<table border=\"1\" class=\"dataframe\">\n",
       "  <thead>\n",
       "    <tr style=\"text-align: right;\">\n",
       "      <th></th>\n",
       "      <th>0</th>\n",
       "    </tr>\n",
       "  </thead>\n",
       "  <tbody>\n",
       "    <tr>\n",
       "      <th>0</th>\n",
       "      <td>url</td>\n",
       "    </tr>\n",
       "    <tr>\n",
       "      <th>1</th>\n",
       "      <td>https://www.realtor.ca/real-estate/24181975/10...</td>\n",
       "    </tr>\n",
       "    <tr>\n",
       "      <th>2</th>\n",
       "      <td>https://www.realtor.ca/real-estate/24181978/69...</td>\n",
       "    </tr>\n",
       "    <tr>\n",
       "      <th>3</th>\n",
       "      <td>https://www.realtor.ca/real-estate/24181886/10...</td>\n",
       "    </tr>\n",
       "    <tr>\n",
       "      <th>4</th>\n",
       "      <td>https://www.realtor.ca/real-estate/24181361/32...</td>\n",
       "    </tr>\n",
       "  </tbody>\n",
       "</table>\n",
       "</div>"
      ],
      "text/plain": [
       "                                                   0\n",
       "0                                                url\n",
       "1  https://www.realtor.ca/real-estate/24181975/10...\n",
       "2  https://www.realtor.ca/real-estate/24181978/69...\n",
       "3  https://www.realtor.ca/real-estate/24181886/10...\n",
       "4  https://www.realtor.ca/real-estate/24181361/32..."
      ]
     },
     "execution_count": 2,
     "metadata": {},
     "output_type": "execute_result"
    }
   ],
   "source": [
    "# Open links file\n",
    "df = pd. read_csv('Realtorlinks_2022-03-28.csv', header =None, usecols=[0])\n",
    "df.head()"
   ]
  },
  {
   "cell_type": "markdown",
   "id": "dca52c83",
   "metadata": {},
   "source": [
    "Making a directory for downloading and saving images"
   ]
  },
  {
   "cell_type": "code",
   "execution_count": null,
   "id": "7897cf5a",
   "metadata": {
    "scrolled": false
   },
   "outputs": [],
   "source": [
    "# Make directory for downloading and saving images\n",
    "path2 = os.getcwd()\n",
    "path2 = os.path.join(path2 , 'homeimages')\n",
    "os.mkdir(path2)\n",
    "path2"
   ]
  },
  {
   "cell_type": "code",
   "execution_count": null,
   "id": "5c835bdf",
   "metadata": {},
   "outputs": [],
   "source": [
    "# Just for manually setting start point of getting links\n",
    "counter = 425\n",
    "except_count = 0"
   ]
  },
  {
   "cell_type": "markdown",
   "id": "2ed0eaf9",
   "metadata": {},
   "source": [
    "Opening Chrome Driver"
   ]
  },
  {
   "cell_type": "code",
   "execution_count": null,
   "id": "6e3f962e",
   "metadata": {},
   "outputs": [],
   "source": [
    "# Opening Chrome Driver\n",
    "PATH = \"C:\\Program Files (x86)\\chromedriver.exe\"\n",
    "driver = webdriver.Chrome(PATH)"
   ]
  },
  {
   "cell_type": "markdown",
   "id": "8795a574",
   "metadata": {},
   "source": [
    "The following part is the main body of the code. As you see we implemented a while loop that crwal of links and then open their URL. After opening each post, selected attributes been scraped and saved in a list. Then they save as a row in output file."
   ]
  },
  {
   "cell_type": "code",
   "execution_count": null,
   "id": "86b64643",
   "metadata": {
    "scrolled": true
   },
   "outputs": [],
   "source": [
    "# Main Body\n",
    "while counter < len(df):\n",
    "    url = df.iat[counter,0]\n",
    "    print(counter)\n",
    "    print(url)\n",
    "    driver.get(url)\n",
    "    try:\n",
    "        element_present = EC.presence_of_element_located((By.ID, 'listingDetailsTopCon'))\n",
    "        WebDriverWait(driver, 30).until(element_present)\n",
    "        now = datetime.now() # current date and time\n",
    "        scrapeDatetime = now.strftime(\"%m/%d/%Y, %H:%M:%S\")\n",
    "        #print (scrapeDatetime)\n",
    "        listingDetailsTopCon = driver.find_element(by=By.ID, value=\"listingDetailsTopCon\")\n",
    "        ls = listingDetailsTopCon.text.split('\\n')\n",
    "        bedrooms = ''\n",
    "        totalbedrooms = 0\n",
    "        bathrooms = ''\n",
    "        mls = ''\n",
    "        price = ''\n",
    "        addressline1 = ''\n",
    "        addressline2 = ''\n",
    "        po = ''\n",
    "        for l in ls:\n",
    "            if (l.find('$') != -1):\n",
    "                i= ls.index(l)\n",
    "                price = ls[i]\n",
    "                addressline1 = ls[i+2]\n",
    "            if (l.find('MLS') != -1):\n",
    "                k = ls.index(l)\n",
    "                mls = ls[k]\n",
    "                addressline2 = ls[k-1]\n",
    "                po = addressline2[-6:]\n",
    "            if (l.find('Bedrooms') != -1):\n",
    "                i = ls.index(l)\n",
    "                bedrooms = ls[i-1]\n",
    "                totalbedrooms = int(ls[i-1][0])+ int(ls[i-1][-1:])\n",
    "            if (l.find('Bathrooms') != -1):\n",
    "                i = ls.index(l)\n",
    "                bathrooms = ls[i-1] \n",
    "        #print(ls)\n",
    "        obj = [scrapeDatetime, url, price, addressline1, addressline2, po, mls, bedrooms, totalbedrooms, bathrooms]\n",
    "        #print(obj)\n",
    "        PropertySummary = driver.find_element(by=By.ID, value=\"PropertySummary\")\n",
    "        ps = PropertySummary.text.split('\\n')\n",
    "        #print(ps)\n",
    "        propertyType = ''\n",
    "        BuildingType = ''\n",
    "        storeys = ''\n",
    "        communityName = ''\n",
    "        title = ''\n",
    "        landSize = ''\n",
    "        Builtin = ''\n",
    "        parkingType = ''\n",
    "        publishTime = ''\n",
    "        for item in ps:\n",
    "            if item == 'Property Type':\n",
    "                k = ps.index(item)\n",
    "                propertyType = ps[k+1]\n",
    "            if item == 'Building Type':\n",
    "                k = ps.index(item)\n",
    "                BuildingType = ps[k+1]\n",
    "            if item == 'Storeys':\n",
    "                k = ps.index(item)\n",
    "                storeys = ps[k+1]\n",
    "            if item == 'Community Name':\n",
    "                k = ps.index(item)\n",
    "                communityName  = ps[k+1]\n",
    "            if item == 'Title':\n",
    "                k = ps.index(item)\n",
    "                title = ps[k+1]\n",
    "            if item == 'Land Size':\n",
    "                k = ps.index(item)\n",
    "                landSize = ps[k+1]\n",
    "            if item == 'Built in':\n",
    "                k = ps.index(item)\n",
    "                Builtin = ps[k+1]\n",
    "            if item == 'Parking Type':\n",
    "                k = ps.index(item)\n",
    "                parkingType = ps[k+1]\n",
    "            if item == 'Time on REALTOR.ca':\n",
    "                k = ps.index(item)\n",
    "                publishTime = ps[k+1]\n",
    "        obj.extend([propertyType, BuildingType, storeys, communityName, title, landSize, Builtin, parkingType, publishTime])\n",
    "        #print(obj)\n",
    "        try:\n",
    "            PriceHistory = driver.find_element(by=By.ID, value=\"historyDetailSection\")\n",
    "            ph = PriceHistory.text.split('\\n')\n",
    "            priceHistory = ph[2]\n",
    "        except:\n",
    "            ph[2] = ''\n",
    "        #print(ph[2])\n",
    "        obj.append(ph[2])\n",
    "        listingDetailsBuildingCon = driver.find_element(by=By.ID, value=\"listingDetailsBuildingCon\")\n",
    "        lsd = listingDetailsBuildingCon.text.split('\\n')\n",
    "        totalFinishedArea = ''\n",
    "        appliancesIncluded = ''\n",
    "        foundationType = ''\n",
    "        style = ''\n",
    "        architectureStyle = ''\n",
    "        basementType = ''\n",
    "\n",
    "        for item in lsd:\n",
    "            if item == 'Total Finished Area':\n",
    "                k = lsd.index(item)\n",
    "                totalFinishedArea = lsd[k+1]\n",
    "            if item == 'Appliances Included':\n",
    "                k = lsd.index(item)\n",
    "                appliancesIncluded = lsd[k+1]\n",
    "            if item == 'Foundation Type':\n",
    "                k = lsd.index(item)\n",
    "                foundationType = lsd[k+1]\n",
    "            if item == 'Style':\n",
    "                k = lsd.index(item)\n",
    "                style = lsd[k+1]\n",
    "            if item == 'Architecture Style':\n",
    "                k = lsd.index(item)\n",
    "                architectureStyle = lsd[k+1]\n",
    "            if item == 'Basement Type':\n",
    "                k = lsd.index(item)\n",
    "                basementType = lsd[k+1]\n",
    "        obj.extend([totalFinishedArea, appliancesIncluded, foundationType, style, architectureStyle, basementType])\n",
    "        obj.extend(lsd)\n",
    "        images = driver.find_elements(by=By.ID, value='propimg_1')\n",
    "        images = [image.get_attribute('src') for image in images]\n",
    "        #print(images)\n",
    "        for image in images:\n",
    "            imglnk = image.split('/')\n",
    "            file_name = imglnk[len(imglnk)-1]\n",
    "            #print(file_name)\n",
    "            save_as = os.path.join(path2,  file_name)\n",
    "            wget.download(image, save_as)\n",
    "            obj.extend([file_name])\n",
    "        counter = counter + 1\n",
    "        print(obj)\n",
    "        # writing in the CSV file\n",
    "        csv_name = \"Realtor_RealEstatePage_JP_S2.csv\"\n",
    "        with open(csv_name, 'a', newline='') as f_object:\n",
    "            writer_object = writer(f_object)\n",
    "            writer_object.writerow(obj)\n",
    "            f_object.close()\n",
    "        except_count = 0\n",
    "    except Exception as e:\n",
    "        print('Error:', e.__class__)\n",
    "        except_count = except_count + 1\n",
    "        print(\"Try number:\",except_count)\n",
    "        if except_count >= 3:\n",
    "            counter = counter + 1\n",
    "            print(\"Trys exceeded! Go to next link...\")"
   ]
  },
  {
   "cell_type": "markdown",
   "id": "22d60114",
   "metadata": {},
   "source": [
    "To close Chrome driver:"
   ]
  },
  {
   "cell_type": "code",
   "execution_count": null,
   "id": "8c83b4a1",
   "metadata": {},
   "outputs": [],
   "source": [
    "# To close Chrome driver\n",
    "driver.quit()"
   ]
  }
 ],
 "metadata": {
  "kernelspec": {
   "display_name": "Python 3 (ipykernel)",
   "language": "python",
   "name": "python3"
  },
  "language_info": {
   "codemirror_mode": {
    "name": "ipython",
    "version": 3
   },
   "file_extension": ".py",
   "mimetype": "text/x-python",
   "name": "python",
   "nbconvert_exporter": "python",
   "pygments_lexer": "ipython3",
   "version": "3.9.7"
  }
 },
 "nbformat": 4,
 "nbformat_minor": 5
}
